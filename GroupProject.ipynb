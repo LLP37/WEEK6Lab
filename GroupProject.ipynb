{
 "cells": [
  {
   "cell_type": "code",
   "execution_count": 5,
   "metadata": {},
   "outputs": [
    {
     "name": "stdin",
     "output_type": "stream",
     "text": [
      "Please enter your age. 19\n",
      "Please enter your name: Leah\n"
     ]
    },
    {
     "name": "stdout",
     "output_type": "stream",
     "text": [
      "Go vote Leah\n"
     ]
    }
   ],
   "source": [
    "user_age= input(\"Please enter your age.\")\n",
    "user_age= int(user_age)\n",
    "user_name= input(\"Please enter your name:\")\n",
    "if(user_age < 18):\n",
    "    until_18= 18- int(user_age)\n",
    "    print(\"My name is \" + user_name + \". You will be 18 in \" + str(until_18) + \" years\")\n",
    "if(user_age >= 18):\n",
    "    print(\"Go vote \" + user_name)"
   ]
  },
  {
   "cell_type": "code",
   "execution_count": null,
   "metadata": {},
   "outputs": [],
   "source": []
  }
 ],
 "metadata": {
  "kernelspec": {
   "display_name": "Python 3",
   "language": "python",
   "name": "python3"
  },
  "language_info": {
   "codemirror_mode": {
    "name": "ipython",
    "version": 3
   },
   "file_extension": ".py",
   "mimetype": "text/x-python",
   "name": "python",
   "nbconvert_exporter": "python",
   "pygments_lexer": "ipython3",
   "version": "3.6.7"
  }
 },
 "nbformat": 4,
 "nbformat_minor": 4
}
